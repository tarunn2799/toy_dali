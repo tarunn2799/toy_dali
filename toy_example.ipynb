{
 "cells": [
  {
   "cell_type": "code",
   "execution_count": 1,
   "metadata": {},
   "outputs": [],
   "source": [
    "import nvidia.dali.ops as ops\n",
    "import nvidia.dali.types as types\n",
    "from nvidia.dali.pipeline import Pipeline\n",
    "from nvidia.dali.plugin.pytorch import DALIGenericIterator, DALIClassificationIterator\n",
    "import os\n",
    "import random\n",
    "import torch\n",
    "import numpy as np\n",
    "import pandas as pd\n",
    "import glob\n",
    "from PIL import Image\n",
    "import itertools\n",
    "import nvidia.dali.fn as fn\n",
    "import cupy\n",
    "import ast"
   ]
  },
  {
   "cell_type": "markdown",
   "metadata": {},
   "source": [
    "# External Source Example\n"
   ]
  },
  {
   "cell_type": "code",
   "execution_count": 2,
   "metadata": {},
   "outputs": [],
   "source": [
    "class MultiClassIterator(object):\n",
    "    def __init__(self, datasets, batch_size):\n",
    "        len_df = [len(df) for df in datasets]\n",
    "        self.largest_dataset = max(len_df) #length of csv file with the most number of datapoints\n",
    "        self.largest_dataset_idx = len_df.index(self.largest_dataset) #identifier for which one the largest is\n",
    "        self.counter_index = {i: 0 for i, dataset in enumerate(datasets)} #a counter to see how many datapoints have been taken from each dataset\n",
    "        self.counter_dataset = 0 #identifier for which dataset we're currently on\n",
    "        self.iterable_datasets = itertools.cycle(datasets)\n",
    "        self.batch_size = batch_size\n",
    "        self.datasets = datasets\n",
    "\n",
    "    def customroundrobin(self, iterable, index): \n",
    "        '''\n",
    "        Performs a round robin over the smaller dataset. In the case where one CSV is smaller than the other, the\n",
    "        smaller one is iterated through again till we reach the length of the largest CSV dataset.\n",
    "        '''\n",
    "        start_over = 0\n",
    "        if index >= len(iterable):\n",
    "            start_over += 1\n",
    "        while True:\n",
    "            for i, element in enumerate(iterable):\n",
    "                if i >= index or start_over:\n",
    "                    if i == len(iterable) - 1:\n",
    "                        start_over += 1\n",
    "                    yield element\n",
    "                    \n",
    "    def __iter__(self):\n",
    "        return self\n",
    "        \n",
    "    def __next__(self):\n",
    "        batch_crops = []\n",
    "        batch_labels = [np.array(i) for i in range(4)] #Ignore this, just a dummy label being generated. \n",
    "        print('Counter Index Updated', self.counter_index)\n",
    "        \n",
    "        #takes a row from our CSV file dataset, and appends the result values to a list. Value is yielded.\n",
    "        batch_counter = 0\n",
    "        cur_iterable = self.customroundrobin(self.iterable_datasets.__next__(), self.counter_index[self.counter_dataset])\n",
    "        while batch_counter < self.batch_size:\n",
    "            self.counter_index[self.counter_dataset] += 1\n",
    "            data_point = cur_iterable.__next__()\n",
    "            crops = data_point[\"labels_crops\"]\n",
    "            crops = ast.literal_eval(crops)\n",
    "            crops = [crops[0], crops[1], crops[2] - crops[0], crops[3] - crops[1]] #Format to support ops.slice\n",
    "            batch_crops.append(np.array([crops], dtype=np.int32))\n",
    "            batch_counter += 1\n",
    "        self.counter_dataset += 1\n",
    "        if self.counter_dataset == len(datasets):\n",
    "            self.counter_dataset = 0\n",
    "        yield (batch_crops, batch_labels)\n",
    "    \n",
    "\n",
    "    @property\n",
    "    def size(self):\n",
    "        return self.largest_dataset"
   ]
  },
  {
   "cell_type": "code",
   "execution_count": 3,
   "metadata": {},
   "outputs": [],
   "source": [
    "class GenericIterator(DALIGenericIterator):\n",
    "    def __init__(self, **args):\n",
    "        super().__init__(**args)\n",
    "        pass\n",
    "    \n",
    "    def custom_collate(self, loader_dict):\n",
    "        #using this function for adding custom collate functionalit\n",
    "        pass\n",
    "\n",
    "    def __next__(self):\n",
    "        #Removed a few nuances, but we do require a custom DALIGenericIterator (for custom functions)\n",
    "        loader_dict = {}\n",
    "        out = super().__next__()\n",
    "        out = out[0]\n",
    "        loader_dict[\"input\"] = out[self.output_map[0]].float()\n",
    "        loader_dict[\"labels\"] = torch.squeeze(out[self.output_map[1]])\n",
    "\n",
    "        return loader_dict"
   ]
  },
  {
   "cell_type": "code",
   "execution_count": 4,
   "metadata": {},
   "outputs": [],
   "source": [
    "class ExternalSourcePipeline(Pipeline):\n",
    "    def __init__(self, file_list, batch_size, num_threads, device_id, external_data):\n",
    "        super(ExternalSourcePipeline, self).__init__(batch_size, num_threads, device_id)\n",
    "        self.input = ops.FileReader(file_list= file_list)\n",
    "        self.label = ops.ExternalSource()\n",
    "        self.crops = ops.ExternalSource()\n",
    "        self.decode = ops.ImageDecoder(device=\"mixed\", output_type=types.RGB)\n",
    "        self.res = ops.Resize(device=\"gpu\", resize_x=224, resize_y=224)\n",
    "        self.cast = ops.Cast(device=\"cpu\", dtype=types.INT32)\n",
    "        self.external_data = external_data\n",
    "        self.iterator = iter(self.external_data)\n",
    "        \n",
    "    def define_graph(self):\n",
    "        jpegs, dummy_labels = self.input()\n",
    "        self.labels = self.label()\n",
    "        self.crop_dim = self.crops()\n",
    "        anchor =  fn.reshape(fn.slice(self.crop_dim, 0, 2, axes=[1]), shape=[-1])\n",
    "        shape = fn.reshape(fn.slice(self.crop_dim, 2, 2, axes = [1]), shape= [-1])\n",
    "        anchor = self.cast(anchor)\n",
    "        shape = self.cast(shape)\n",
    "        images = self.decode(jpegs)\n",
    "        images = self.res(images)\n",
    "\n",
    "\n",
    "#       decode and slicing\n",
    "        jpegs = fn.slice(jpegs, anchor, shape, axes= [0,1], device= 'gpu')\n",
    "        jpegs = self.res(jpegs)\n",
    "\n",
    "        return (images, self.labels, self.crop_dim)\n",
    "\n",
    "    def iter_setup(self):\n",
    "            print('Entering iter_setup func')\n",
    "            crops, labels = list(next(self.iterator))[0]\n",
    "            print(crops, labels)\n",
    "            self.feed_input(self.labels, labels)\n",
    "            self.feed_input(self.crop_dim, crops)"
   ]
  },
  {
   "cell_type": "code",
   "execution_count": 5,
   "metadata": {},
   "outputs": [],
   "source": [
    "datasets = [pd.read_csv(df, index_col= 'Unnamed: 0').to_dict(orient='records') for df in glob.glob('*.csv')]\n",
    "\n",
    "\n",
    "multi_iter = MultiClassIterator(datasets, 4)"
   ]
  },
  {
   "cell_type": "code",
   "execution_count": 6,
   "metadata": {},
   "outputs": [],
   "source": [
    "pipe = ExternalSourcePipeline(file_list = 'single_image.txt' ,batch_size= 4, num_threads=2, device_id=0,\n",
    "                                  external_data=multi_iter)"
   ]
  },
  {
   "cell_type": "code",
   "execution_count": 8,
   "metadata": {
    "scrolled": true
   },
   "outputs": [
    {
     "name": "stderr",
     "output_type": "stream",
     "text": [
      "/home/cv/.virtualenvs/py3_7/lib/python3.7/site-packages/nvidia/dali/plugin/base_iterator.py:157: Warning: Please set `reader_name` and don't set last_batch_padded and size manually whenever possible. This may lead, in some situations, to missing some samples or returning duplicated ones. Check the Sharding section of the documentation for more details.\n",
      "  _iterator_deprecation_warning()\n"
     ]
    },
    {
     "name": "stdout",
     "output_type": "stream",
     "text": [
      "Entering iter_setup func\n",
      "Counter Index Updated {0: 0, 1: 0}\n",
      "[array([[ 177,  612, 1713, 1920]], dtype=int32), array([[ 177,  612, 1713, 1920]], dtype=int32), array([[ 339,  768, 1389, 1587]], dtype=int32), array([[ 339,  768, 1389, 1587]], dtype=int32)] [array(0), array(1), array(2), array(3)]\n",
      "Entering iter_setup func\n",
      "Counter Index Updated {0: 4, 1: 0}\n",
      "[array([[158, 292,  96, 183]], dtype=int32), array([[137, 252, 147, 348]], dtype=int32), array([[406, 638, 283, 795]], dtype=int32), array([[128, 214, 132, 386]], dtype=int32)] [array(0), array(1), array(2), array(3)]\n",
      "Entering iter_setup func\n",
      "Counter Index Updated {0: 4, 1: 4}\n",
      "[array([[ 494,  834, 1042, 1388]], dtype=int32), array([[ 494,  834, 1042, 1388]], dtype=int32), array([[642, 649, 798, 761]], dtype=int32), array([[ 413,  915, 1278, 1174]], dtype=int32)] [array(0), array(1), array(2), array(3)]\n"
     ]
    }
   ],
   "source": [
    "pii = GenericIterator(pipelines = pipe, output_map=['data', 'label', 'crops'], auto_reset = True, size = multi_iter.size)"
   ]
  },
  {
   "cell_type": "code",
   "execution_count": 9,
   "metadata": {},
   "outputs": [
    {
     "name": "stdout",
     "output_type": "stream",
     "text": [
      "tensor([0, 1, 2, 3])\n",
      "Entering iter_setup func\n",
      "Counter Index Updated {0: 8, 1: 4}\n",
      "[array([[229, 377, 230, 706]], dtype=int32), array([[165,  42, 356, 708]], dtype=int32), array([[113, 208, 128, 333]], dtype=int32), array([[  99,   43,  816, 1237]], dtype=int32)] [array(0), array(1), array(2), array(3)]\n",
      "tensor([0, 1, 2, 3])\n",
      "Entering iter_setup func\n",
      "Counter Index Updated {0: 8, 1: 8}\n",
      "[array([[ 413,  915, 1278, 1174]], dtype=int32), array([[  51,  753, 1905, 1521]], dtype=int32), array([[ 450,  635, 1034, 1321]], dtype=int32), array([[ 450,  635, 1034, 1321]], dtype=int32)] [array(0), array(1), array(2), array(3)]\n",
      "tensor([0, 1, 2, 3])\n",
      "Entering iter_setup func\n",
      "Counter Index Updated {0: 12, 1: 8}\n",
      "[array([[187, 220, 129, 420]], dtype=int32), array([[ 81, 219, 139, 381]], dtype=int32), array([[ 91, 258, 119, 223]], dtype=int32), array([[ 272,    0,  507, 1687]], dtype=int32)] [array(0), array(1), array(2), array(3)]\n",
      "tensor([0, 1, 2, 3])\n",
      "Entering iter_setup func\n",
      "Counter Index Updated {0: 12, 1: 12}\n",
      "[array([[ 206, 1063, 1618, 1004]], dtype=int32), array([[  88,  576, 1876, 2008]], dtype=int32), array([[  88,  576, 1876, 2008]], dtype=int32), array([[   0,  553, 2048, 1979]], dtype=int32)] [array(0), array(1), array(2), array(3)]\n",
      "tensor([0, 1, 2, 3])\n",
      "Entering iter_setup func\n",
      "Counter Index Updated {0: 16, 1: 12}\n",
      "[array([[142, 208, 202, 348]], dtype=int32), array([[111, 240, 171, 279]], dtype=int32), array([[ 748, 1418,  894, 2333]], dtype=int32), array([[ 68,  23,  71, 213]], dtype=int32)] [array(0), array(1), array(2), array(3)]\n",
      "tensor([0, 1, 2, 3])\n",
      "Entering iter_setup func\n",
      "Counter Index Updated {0: 16, 1: 16}\n",
      "[array([[ 169,  620, 1736, 1853]], dtype=int32), array([[ 295,  723, 1514, 1647]], dtype=int32), array([[ 206,  745, 1647, 1566]], dtype=int32), array([[ 206,  745, 1647, 1566]], dtype=int32)] [array(0), array(1), array(2), array(3)]\n",
      "tensor([0, 1, 2, 3])\n",
      "Entering iter_setup func\n",
      "Counter Index Updated {0: 20, 1: 16}\n",
      "[array([[ 639,    0,  549, 1900]], dtype=int32), array([[ 96,  72, 124, 378]], dtype=int32), array([[146, 274, 225, 572]], dtype=int32), array([[ 87,   0, 306, 511]], dtype=int32)] [array(0), array(1), array(2), array(3)]\n",
      "tensor([0, 1, 2, 3])\n",
      "Entering iter_setup func\n",
      "Counter Index Updated {0: 20, 1: 20}\n",
      "[array([[ 206,  745, 1647, 1566]], dtype=int32), array([[ 206,  745, 1647, 1566]], dtype=int32), array([[ 206,  745, 1647, 1566]], dtype=int32), array([[ 539,  716,  952, 1617]], dtype=int32)] [array(0), array(1), array(2), array(3)]\n",
      "tensor([0, 1, 2, 3])\n",
      "Entering iter_setup func\n",
      "Counter Index Updated {0: 24, 1: 20}\n",
      "[array([[ 86, 242, 174, 358]], dtype=int32), array([[ 279,   15,  420, 1365]], dtype=int32), array([[132, 216, 127, 342]], dtype=int32), array([[ 98,   0, 438, 640]], dtype=int32)] [array(0), array(1), array(2), array(3)]\n",
      "tensor([0, 1, 2, 3])\n",
      "Entering iter_setup func\n",
      "Counter Index Updated {0: 24, 1: 24}\n",
      "[array([[ 605,  871,  835, 1248]], dtype=int32), array([[ 605,  871,  835, 1248]], dtype=int32), array([[ 221,  871, 1639, 1366]], dtype=int32), array([[ 221,  871, 1639, 1366]], dtype=int32)] [array(0), array(1), array(2), array(3)]\n",
      "tensor([0, 1, 2, 3])\n",
      "Entering iter_setup func\n",
      "Counter Index Updated {0: 28, 1: 24}\n",
      "[array([[141, 209, 143, 271]], dtype=int32), array([[104, 162, 142, 338]], dtype=int32), array([[ 53,  17,  74, 223]], dtype=int32), array([[111, 218, 115, 295]], dtype=int32)] [array(0), array(1), array(2), array(3)]\n",
      "tensor([0, 1, 2, 3])\n",
      "Entering iter_setup func\n",
      "Counter Index Updated {0: 28, 1: 28}\n",
      "[array([[ 568,  952,  894, 1123]], dtype=int32), array([[ 420,  273, 1189, 1691]], dtype=int32), array([[ 347,  967, 1388, 1167]], dtype=int32), array([[ 347,  967, 1388, 1167]], dtype=int32)] [array(0), array(1), array(2), array(3)]\n",
      "tensor([0, 1, 2, 3])\n"
     ]
    }
   ],
   "source": [
    "for x in pii:\n",
    "    print(x['labels'])"
   ]
  },
  {
   "cell_type": "code",
   "execution_count": null,
   "metadata": {},
   "outputs": [],
   "source": []
  }
 ],
 "metadata": {
  "kernelspec": {
   "display_name": "Python 3",
   "language": "python",
   "name": "python3"
  },
  "language_info": {
   "codemirror_mode": {
    "name": "ipython",
    "version": 3
   },
   "file_extension": ".py",
   "mimetype": "text/x-python",
   "name": "python",
   "nbconvert_exporter": "python",
   "pygments_lexer": "ipython3",
   "version": "3.7.6"
  }
 },
 "nbformat": 4,
 "nbformat_minor": 2
}
